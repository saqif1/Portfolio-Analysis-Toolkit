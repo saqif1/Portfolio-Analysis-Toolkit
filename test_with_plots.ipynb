{
 "cells": [
  {
   "cell_type": "code",
   "execution_count": 141,
   "metadata": {},
   "outputs": [],
   "source": [
    "import numpy as np\n",
    "import pandas as pd\n",
    "import scipy.stats as stat\n",
    "from scipy.stats import norm\n",
    "import scipy.interpolate\n",
    "import statistics\n",
    "from statistics import NormalDist\n",
    "import datetime as dt"
   ]
  },
  {
   "cell_type": "markdown",
   "metadata": {},
   "source": [
    "## Data Pre-processing"
   ]
  },
  {
   "cell_type": "code",
   "execution_count": 142,
   "metadata": {},
   "outputs": [
    {
     "name": "stdout",
     "output_type": "stream",
     "text": [
      "Common dates:  251\n",
      "Not common dates:  0\n"
     ]
    }
   ],
   "source": [
    "sofr = pd.read_excel(\"data/hist_data.xlsm\", \"SofrCurve\", index_col=0)\n",
    "aapl = pd.read_excel(\"data/hist_data.xlsm\", \"AAPL\", index_col=0)\n",
    "msft = pd.read_excel(\"data/hist_data.xlsm\", \"MSFT\", index_col=0)\n",
    "ford = pd.read_excel(\"data/hist_data.xlsm\", \"F\", index_col=0)\n",
    "bac = pd.read_excel(\"data/hist_data.xlsm\", \"BAC\", index_col=0)\n",
    "\n",
    "dates_aapl = set(aapl.index)\n",
    "dates_msft = set(msft.index)\n",
    "dates_ford = set(ford.index)\n",
    "dates_bac = set(bac.index)\n",
    "common_dates = dates_aapl & dates_msft & dates_ford & dates_bac\n",
    "not_common_dates = (dates_aapl | dates_msft | dates_ford | dates_bac) - common_dates\n",
    "\n",
    "print(\"Common dates: \", len(common_dates))\n",
    "print(\"Not common dates: \", len(not_common_dates))"
   ]
  },
  {
   "cell_type": "code",
   "execution_count": 143,
   "metadata": {},
   "outputs": [],
   "source": [
    "# Equities\n",
    "equities = pd.concat([aapl, msft, ford, bac], axis=1)\n",
    "equities.columns = [\"AAPL\", \"MSFT\", \"F\", \"BAC\"]\n",
    "equities_change = equities.pct_change().dropna()\n",
    "equities_mean = equities_change.mean()\n",
    "n_aapl, n_msft, n_ford, n_bac = 1e6, 1e6, 1e6, 1e6 \n",
    "\n",
    "# SOFR Swap\n",
    "payment_tenors = [\"1Y\", \"2Y\", \"3Y\", \"4Y\", \"5Y\", \"6Y\", \"7Y\", \"8Y\", \"9Y\", \"10Y\"]\n",
    "sofr_rates = sofr.drop(columns=[\"T\"]).T\n",
    "sofr_rates.index = pd.to_datetime(sofr_rates.index)\n",
    "sofr_rates_change = sofr_rates.diff(axis=0).dropna()\n",
    "sofr_mean = sofr_rates_change.mean(axis=0)\n",
    "n_swap = 1e8\n",
    "\n",
    "latest_sofr_rates = sofr_rates.iloc[-1]\n",
    "\n",
    "# Combine\n",
    "risk_factors_change = pd.concat([sofr_rates_change, equities_change], axis=1).dropna(axis=0)\n",
    "risk_factors_cov = risk_factors_change.cov()\n",
    "risk_factors_corr = risk_factors_change.corr()\n",
    "risk_factors_mean = risk_factors_change.mean(axis=0)\n",
    "risk_factors_std = risk_factors_change.std(axis=0)"
   ]
  },
  {
   "cell_type": "markdown",
   "metadata": {},
   "source": [
    "## Functions"
   ]
  },
  {
   "cell_type": "code",
   "execution_count": 144,
   "metadata": {},
   "outputs": [],
   "source": [
    "def full_revaluation_pnl_equities(returns_1, returns_2, returns_3, returns_4):\n",
    "    return n_aapl * returns_1 + \\\n",
    "           n_msft * returns_2 + \\\n",
    "           n_ford * returns_3 + \\\n",
    "           n_bac * returns_4\n",
    "\n",
    "# def swap_pricing(sofr_rates):\n",
    "#     # payment_tenors = [\"1Y\", \"2Y\", \"3Y\", \"4Y\", \"5Y\", \"7Y\", \"8Y\", \"9Y\", \"10Y\"]\n",
    "#     notional = 1e8\n",
    "#     fixed_rate = 0.042\n",
    "#     discount_factors = []\n",
    "#     forward_rates = []\n",
    "#     year_count = 1\n",
    "#     for t in payment_tenors:\n",
    "#         discount_factors.append(np.exp(-sofr_rates[t] * year_count))\n",
    "#         if year_count == 1:\n",
    "#             forward_rates.append(sofr_rates[t])\n",
    "#         else:\n",
    "#             forward_rates.append(discount_factors[-2] / discount_factors[-1] - 1)\n",
    "#         year_count += 1\n",
    "        \n",
    "#     floating_leg = sum(df * f for df, f in zip(discount_factors, forward_rates))\n",
    "#     fixed_leg = sum(df * fixed_rate for df in discount_factors)\n",
    "\n",
    "#     return (floating_leg - fixed_leg) * notional\n",
    "\n",
    "def swap_pricing(sofr_rates):\n",
    "    notional = 1e8\n",
    "    fixed_rate = 0.042\n",
    "    discount_factors = []\n",
    "    year_count = 1\n",
    "    for t in payment_tenors:\n",
    "        discount_factors.append(np.exp(-sofr_rates[t] * year_count))\n",
    "        year_count += 1\n",
    "\n",
    "    floating_leg = 1 - discount_factors[-1]\n",
    "    fixed_leg = sum(df * fixed_rate for df in discount_factors)\n",
    "\n",
    "    return (floating_leg - fixed_leg) * notional\n",
    "\n",
    "def sensitivity_pnl_equities(returns_1, returns_2, returns_3, returns_4):\n",
    "    return n_aapl * returns_1 + \\\n",
    "            n_msft * returns_2 + \\\n",
    "            n_ford * returns_3 + \\\n",
    "            n_bac * returns_4\n",
    "\n",
    "def partial_pv01(latest_sofr_rates):\n",
    "    pv01 = []\n",
    "    for t in sofr_rates.columns:\n",
    "        up = latest_sofr_rates.copy()\n",
    "        up[t] += 1e-4\n",
    "        pv01.append(swap_pricing(up) - base_swap_price)\n",
    "    return pv01\n",
    "\n",
    "def sensitivity_pnl_swap(pv01, sofr_simulated_curve):\n",
    "    return sum(p * 100 * (sofr_simulated_curve - latest_sofr_rates)[t] for p, t in zip(pv01, payment_tenors))\n",
    "\n",
    "base_swap_price = swap_pricing(latest_sofr_rates)\n",
    "part_pv01 = partial_pv01(latest_sofr_rates)"
   ]
  },
  {
   "cell_type": "code",
   "execution_count": 145,
   "metadata": {},
   "outputs": [
    {
     "data": {
      "text/plain": [
       "936889.2562429619"
      ]
     },
     "execution_count": 145,
     "metadata": {},
     "output_type": "execute_result"
    }
   ],
   "source": [
    "a = [x * 1e4 for x in part_pv01]\n",
    "a += [1e6]*4\n",
    "\n",
    "mean_portfolio = sum(risk_factors_mean * a)\n",
    "\n",
    "cov_portfolio = np.dot(a, np.dot(risk_factors_cov, a))\n",
    "\n",
    "z_a = norm.ppf(0.05)\n",
    "parametric_VaR = abs(mean_portfolio + z_a * np.sqrt(cov_portfolio))\n",
    "parametric_VaR"
   ]
  },
  {
   "cell_type": "markdown",
   "metadata": {},
   "source": [
    "## Monte Carlo VaR"
   ]
  },
  {
   "cell_type": "markdown",
   "metadata": {},
   "source": [
    "Simulations"
   ]
  },
  {
   "cell_type": "code",
   "execution_count": 146,
   "metadata": {},
   "outputs": [
    {
     "name": "stdout",
     "output_type": "stream",
     "text": [
      "100000\n",
      "34\n",
      "100000\n",
      "30\n",
      "100000\n",
      "4\n"
     ]
    }
   ],
   "source": [
    "num_simulations = 100000\n",
    "risk_factors_dist = np.random.multivariate_normal(risk_factors_mean, risk_factors_cov, num_simulations)\n",
    "\n",
    "print(len(risk_factors_dist))\n",
    "print(len(risk_factors_dist[0]))\n",
    "\n",
    "sofr_dist = [s[:30] for s in risk_factors_dist]\n",
    "equities_dist = [s[30:] for s in risk_factors_dist]\n",
    "\n",
    "print(len(sofr_dist))\n",
    "print(len(sofr_dist[0]))\n",
    "\n",
    "print(len(equities_dist))\n",
    "print(len(equities_dist[0]))\n",
    "\n",
    "current_portfolio = base_swap_price + 4*1e6"
   ]
  },
  {
   "cell_type": "code",
   "execution_count": 147,
   "metadata": {},
   "outputs": [
    {
     "data": {
      "text/plain": [
       "6442901.999846325"
      ]
     },
     "execution_count": 147,
     "metadata": {},
     "output_type": "execute_result"
    }
   ],
   "source": [
    "current_portfolio"
   ]
  },
  {
   "cell_type": "markdown",
   "metadata": {},
   "source": [
    "Full Revaluation"
   ]
  },
  {
   "cell_type": "code",
   "execution_count": 148,
   "metadata": {},
   "outputs": [
    {
     "data": {
      "text/plain": [
       "939460.9029464641"
      ]
     },
     "execution_count": 148,
     "metadata": {},
     "output_type": "execute_result"
    }
   ],
   "source": [
    "full_revaluation = []\n",
    "for i in range(num_simulations):\n",
    "    equities_reval = sum((equities_dist[i] + 1) * 1e6)\n",
    "    sofr_reval = swap_pricing(sofr_dist[i] + latest_sofr_rates)\n",
    "    full_revaluation.append(equities_reval + sofr_reval - current_portfolio)\n",
    "\n",
    "full_revaluation_MC_VaR = abs(np.percentile(full_revaluation, 5))\n",
    "full_revaluation_MC_VaR"
   ]
  },
  {
   "cell_type": "markdown",
   "metadata": {},
   "source": [
    "Sensitivity"
   ]
  },
  {
   "cell_type": "code",
   "execution_count": 149,
   "metadata": {},
   "outputs": [
    {
     "data": {
      "text/plain": [
       "934535.4371563139"
      ]
     },
     "execution_count": 149,
     "metadata": {},
     "output_type": "execute_result"
    }
   ],
   "source": [
    "changes = risk_factors_dist.dot(a)\n",
    "sensitivity_MC_VaR = abs(np.percentile(changes, 5))\n",
    "sensitivity_MC_VaR"
   ]
  },
  {
   "cell_type": "markdown",
   "metadata": {},
   "source": [
    "## Historical VaR"
   ]
  },
  {
   "cell_type": "markdown",
   "metadata": {},
   "source": [
    "Full Revaluation"
   ]
  },
  {
   "cell_type": "code",
   "execution_count": 150,
   "metadata": {},
   "outputs": [
    {
     "data": {
      "text/plain": [
       "986112.3705991704"
      ]
     },
     "execution_count": 150,
     "metadata": {},
     "output_type": "execute_result"
    }
   ],
   "source": [
    "equities_portfolio = np.sum(risk_factors_change[equities.columns] + 1, axis=1) * 1e6\n",
    "swap_portfolio = risk_factors_change[sofr_rates.columns].apply(lambda x: swap_pricing(x + latest_sofr_rates), axis=1)\n",
    "full_portfolio_reval = equities_portfolio + swap_portfolio - current_portfolio\n",
    "full_revaluation_historical_VaR = abs(np.percentile(full_portfolio_reval, 5))\n",
    "full_revaluation_historical_VaR"
   ]
  },
  {
   "cell_type": "markdown",
   "metadata": {},
   "source": [
    "Sensitivity "
   ]
  },
  {
   "cell_type": "code",
   "execution_count": 151,
   "metadata": {},
   "outputs": [
    {
     "data": {
      "text/plain": [
       "980180.0116968256"
      ]
     },
     "execution_count": 151,
     "metadata": {},
     "output_type": "execute_result"
    }
   ],
   "source": [
    "changes = np.array(risk_factors_change).dot(a)\n",
    "sensitivity_historical_VaR = abs(np.percentile(changes, 5))\n",
    "sensitivity_historical_VaR"
   ]
  },
  {
   "cell_type": "markdown",
   "metadata": {},
   "source": [
    "## Conclusion"
   ]
  },
  {
   "cell_type": "code",
   "execution_count": 152,
   "metadata": {},
   "outputs": [
    {
     "name": "stdout",
     "output_type": "stream",
     "text": [
      "============================================================================================================================\n",
      "Parametric VaR [1d, 95%]: 936,889\n",
      "============================================================================================================================\n",
      "Full Revaluation Monte Carlo VaR [1d, 95%]: 939,461\n",
      "Sensitivity Monte Carlo VaR [1d, 95%]: 934,535\n",
      "============================================================================================================================\n",
      "Full Revaluation Historical VaR [1d, 95%]: 986,112\n",
      "Sensitivity Historical VaR [1d, 95%]: 980,180\n"
     ]
    }
   ],
   "source": [
    "print(\"============================================================================================================================\")\n",
    "print(f\"Parametric VaR [1d, 95%]: {parametric_VaR:,.0f}\")\n",
    "print(\"============================================================================================================================\")\n",
    "print(f\"Full Revaluation Monte Carlo VaR [1d, 95%]: {full_revaluation_MC_VaR:,.0f}\")\n",
    "print(f\"Sensitivity Monte Carlo VaR [1d, 95%]: {sensitivity_MC_VaR:,.0f}\")\n",
    "print(\"============================================================================================================================\")\n",
    "print(f\"Full Revaluation Historical VaR [1d, 95%]: {full_revaluation_historical_VaR:,.0f}\")\n",
    "print(f\"Sensitivity Historical VaR [1d, 95%]: {sensitivity_historical_VaR:,.0f}\")"
   ]
  }
 ],
 "metadata": {
  "kernelspec": {
   "display_name": "base",
   "language": "python",
   "name": "python3"
  },
  "language_info": {
   "codemirror_mode": {
    "name": "ipython",
    "version": 3
   },
   "file_extension": ".py",
   "mimetype": "text/x-python",
   "name": "python",
   "nbconvert_exporter": "python",
   "pygments_lexer": "ipython3",
   "version": "3.11.7"
  }
 },
 "nbformat": 4,
 "nbformat_minor": 2
}
